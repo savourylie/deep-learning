{
 "cells": [
  {
   "cell_type": "markdown",
   "metadata": {
    "deletable": true,
    "editable": true
   },
   "source": [
    "# TV Script Generation\n",
    "In this project, you'll generate your own [Simpsons](https://en.wikipedia.org/wiki/The_Simpsons) TV scripts using RNNs.  You'll be using part of the [Simpsons dataset](https://www.kaggle.com/wcukierski/the-simpsons-by-the-data) of scripts from 27 seasons.  The Neural Network you'll build will generate a new TV script for a scene at [Moe's Tavern](https://simpsonswiki.com/wiki/Moe's_Tavern).\n",
    "## Get the Data\n",
    "The data is already provided for you.  You'll be using a subset of the original dataset.  It consists of only the scenes in Moe's Tavern.  This doesn't include other versions of the tavern, like \"Moe's Cavern\", \"Flaming Moe's\", \"Uncle Moe's Family Feed-Bag\", etc.."
   ]
  },
  {
   "cell_type": "code",
   "execution_count": 1,
   "metadata": {
    "collapsed": false,
    "deletable": true,
    "editable": true
   },
   "outputs": [],
   "source": [
    "\"\"\"\n",
    "DON'T MODIFY ANYTHING IN THIS CELL\n",
    "\"\"\"\n",
    "import helper\n",
    "\n",
    "data_dir = './data/simpsons/moes_tavern_lines.txt'\n",
    "text = helper.load_data(data_dir)\n",
    "# Ignore notice, since we don't use it for analysing the data\n",
    "text = text[81:]"
   ]
  },
  {
   "cell_type": "markdown",
   "metadata": {
    "deletable": true,
    "editable": true
   },
   "source": [
    "## Explore the Data\n",
    "Play around with `view_sentence_range` to view different parts of the data."
   ]
  },
  {
   "cell_type": "code",
   "execution_count": 2,
   "metadata": {
    "collapsed": false,
    "deletable": true,
    "editable": true
   },
   "outputs": [
    {
     "name": "stdout",
     "output_type": "stream",
     "text": [
      "Dataset Stats\n",
      "Roughly the number of unique words: 11492\n",
      "Number of scenes: 262\n",
      "Average number of sentences in each scene: 15.248091603053435\n",
      "Number of lines: 4257\n",
      "Average number of words in each line: 11.50434578341555\n",
      "\n",
      "The sentences 0 to 200:\n",
      "Moe_Szyslak: (INTO PHONE) Moe's Tavern. Where the elite meet to drink.\n",
      "Bart_Simpson: Eh, yeah, hello, is Mike there? Last name, Rotch.\n",
      "Moe_Szyslak: (INTO PHONE) Hold on, I'll check. (TO BARFLIES) Mike Rotch. Mike Rotch. Hey, has anybody seen Mike Rotch, lately?\n",
      "Moe_Szyslak: (INTO PHONE) Listen you little puke. One of these days I'm gonna catch you, and I'm gonna carve my name on your back with an ice pick.\n",
      "Moe_Szyslak: What's the matter Homer? You're not your normal effervescent self.\n",
      "Homer_Simpson: I got my problems, Moe. Give me another one.\n",
      "Moe_Szyslak: Homer, hey, you should not drink to forget your problems.\n",
      "Barney_Gumble: Yeah, you should only drink to enhance your social skills.\n",
      "\n",
      "\n",
      "Moe_Szyslak: Ah, isn't that nice. Now, there is a politician who cares.\n",
      "Barney_Gumble: If I ever vote, it'll be for him. (BELCH)\n",
      "\n",
      "\n",
      "Barney_Gumble: Hey Homer, how's your neighbor's store doing?\n",
      "Homer_Simpson: Lousy. He just sits there all day. He'd have a great job if he didn't own the place. (CHUCKLES)\n",
      "Moe_Szyslak: (STRUGGLING WITH CORKSCREW) Crummy right-handed corkscrews! What does he sell?\n",
      "Homer_Simpson: Uh, well actually, Moe...\n",
      "HOMER_(CONT'D: I dunno.\n",
      "\n",
      "\n",
      "Moe_Szyslak: Looks like this is the end.\n",
      "Barney_Gumble: That's all right. I couldn't have led a richer life.\n",
      "Barney_Gumble: So the next time somebody tells you county folk are good, honest people, you can spit in their faces for me!\n",
      "Lisa_Simpson: I will, Mr. Gumbel. But if you'll excuse me, I'm profiling my dad for the school paper. I thought it would be neat to follow him around for a day to see what makes him tick.\n",
      "Barney_Gumble: Oh, that's sweet. I used to follow my dad to a lot of bars too. (BELCH)\n",
      "Moe_Szyslak: Here you go. One beer, one chocolate milk.\n",
      "Lisa_Simpson: Uh, excuse me, I have the chocolate milk.\n",
      "Moe_Szyslak: Oh.\n",
      "Moe_Szyslak: What's the matter, Homer? The depressin' effects of alcohol usually don't kick in 'til closing time.\n",
      "Lisa_Simpson: He's just a little nervous. (PROUDLY) He has to give a speech tomorrow on \"How To Keep Cool In A Crisis.\"\n",
      "Homer_Simpson: (SOBS) What am I gonna do? What am I gonna do?\n",
      "Barney_Gumble: Hey, I had to give a speech once. I was pretty nervous, so I used a little trick. I pictured everyone in their underwear. The judge, the jury, my lawyer, everybody.\n",
      "Homer_Simpson: Did it work?\n",
      "Barney_Gumble: I'm a free man, ain't I?\n",
      "Barney_Gumble: Whoa!\n",
      "Barney_Gumble: Huh? A pretzel? Wow, looks like I pulled a Homer!\n",
      "\n",
      "\n",
      "Patrons: (MUMBLING, NOT IN UNISON) Happy thoughts... happy thoughts... we love that boy.\n",
      "Moe_Szyslak: (INTO PHONE) Moe's Tavern. Hold on, I'll check. ... (LOUD) Hey everybody! I'm a stupid moron with an ugly face and a big butt, and my butt smells, and I like to kiss my own butt.\n",
      "Barney_Gumble: That's a new one (LAUGHING).\n",
      "Moe_Szyslak: Now wait a minute...\n",
      "\n",
      "\n",
      "Homer_Simpson: Hurry, Moe, hurry! I've only got five minutes till the music store closes.\n",
      "Moe_Szyslak: Why don't you go there first?\n",
      "Homer_Simpson: Hey, do I tell you how to do your job?\n",
      "Moe_Szyslak: Sorry, Homer.\n",
      "Homer_Simpson: You know, if you tip the glass, there won't be so much foam on top.\n",
      "Moe_Szyslak: Sorry, Homer.\n",
      "Homer_Simpson: (LOOKING AT WATCH) Ah. Finished with fifteen seconds to spare.\n",
      "Little_Man: (CONCERNED) What's the matter, buddy?\n",
      "Homer_Simpson: The moron next door closed early!\n",
      "Little_Man: (STIFFENING) I happen to be that moron.\n",
      "Homer_Simpson: Oh, me and my trenchant mouth.\n",
      "Homer_Simpson: Please, you've got to open that store.\n",
      "Little_Man: Let me think about it... Eh... No.\n",
      "Homer_Simpson: Okay, okay. But I want you to see a picture of the little girl you're disappointing. (GOES THROUGH HIS WALLET) Well I don't have one.\n",
      "Moe_Szyslak: (TO LITTLE MAN) Come on, Jer. Open up. Be a pal. Remember when I pulled you and your wife out of that burning car?\n",
      "Little_Man: (GRUDGINGLY) Okay. Okay. But now we're even. (TO HOMER) So what does your daughter need?\n",
      "Homer_Simpson: (SMOOTHLY) I'll have you know, I wrote it down.\n",
      "Homer_Simpson: Number Four and a half -- Stupid gum!\n",
      "Homer_Simpson: Number Four and a Half reed! Whoo hoo!\n",
      "Little_Man: Uh-huh. And what instrument does she play?\n",
      "Homer_Simpson: (SUNK) I dunno.\n",
      "\n",
      "\n",
      "Moe_Szyslak: (TO PATRONS) Figure of speech.\n",
      "Moe_Szyslak: Hiya, Homer. (SIGHS)\n",
      "Homer_Simpson: What's the matter, Moe?\n",
      "Moe_Szyslak: Ah, business is slow. People today are healthier and drinking less. You know, if it wasn't for the Junior High school next door no one would even use the cigarette machine.\n",
      "Homer_Simpson: (MOUTH FULL) Yeah, things are tough all over.\n",
      "Moe_Szyslak: Increased job satisfaction and family togetherness are poison for a purveyor of mind-numbing intoxicants like myself.\n",
      "Homer_Simpson: Could I get a beer?\n",
      "Moe_Szyslak: Uh, yeah, sure.\n",
      "Moe_Szyslak: Oh sorry, I forgot we're out of beer.\n",
      "Moe_Szyslak: Yeah, I know, I got behind on my beer payments. The distributor cut me off and I spent my last ten grand on the \"Love Tester\".\n",
      "Moe_Szyslak: You're too late, Homer. Barney sucked it dry. Cut his gums up pretty bad.\n",
      "Moe_Szyslak: Take it easy, Homer. I learned how to make other drinks at Bartender's School.\n",
      "Moe_Szyslak: (UNFAMILIAR) Gin and... tonic? Do they mix?\n",
      "Homer_Simpson: (BRIGHTENING) Hey, I know a good drink. Really hits the spot. I invented it myself...\n",
      "Moe_Szyslak: Sorry, Harv.\n",
      "Moe_Szyslak: Whoa, sounds like one hell of a drink. What do you call it?\n",
      "Homer_Simpson: A \"Flaming Homer\".\n",
      "Moe_Szyslak: Okay, why don't you make us up a couple of \"Flaming Homers\"?\n",
      "Homer_Simpson: Hey Moe, you got any cough syrup?\n",
      "Moe_Szyslak: Uh, let me check the lost and found.\n",
      "Moe_Szyslak: What do we got here, Bowie knife, troll doll, glass eye...\n",
      "Moe_Szyslak: Oh. Here we are.\n",
      "Moe_Szyslak: It's not without its charm.\n",
      "Homer_Simpson: Try lighting it on fire.\n",
      "Moe_Szyslak: (SMILING) Whoa! Homer, it's like there's a party in my mouth and everyone's invited.\n",
      "Larry: Hey, your Love Tester's busted. I want my nickel back. (COUGHS)\n",
      "Moe_Szyslak: Hey, buddy. Have one on the house.\n",
      "Larry: Hey, hey, this drink is delicious! And my phlegm feels looser. What do you call it?\n",
      "Homer_Simpson: Well, it's called a \"Flaming...\n",
      "Moe_Szyslak: Moe! It's called a \"Flaming Moe\"! That's right, a \"Flaming Moe\". My name is Moe, and I invented it. That's why it's called a Flaming Moe. What? What are you lookin' at, Homer? It's a Flaming Moe I'm Moe.\n",
      "Barney_Gumble: Hey, what's this?\n",
      "Moe_Szyslak: A sneeze guard.\n",
      "Barney_Gumble: Wow, it really works.\n",
      "HARV: (CHUCKLING) I'll be back.\n",
      "Homer_Simpson: Moe, I haven't seen the place this crowded since the government cracked down on you for accepting food stamps. Do you think my drink had something to do with it?\n",
      "Moe_Szyslak: Who can say? It's probably a combination of things.\n",
      "Patron_#1: (TO MOE) Another pitcher of those amazing \"Flaming Moe's\".\n",
      "Patron_#2: Boy, I hate this joint, but I love that drink.\n",
      "Collette: Barkeep, I couldn't help noticing your sign.\n",
      "Moe_Szyslak: The one that says, \"Bartenders Do It 'Til You Barf\"?\n",
      "Collette: No, above that store-bought drollery.\n",
      "Moe_Szyslak: Oh great! Why don't we fill out an application? (READING) I'll need your name, measurements and turn ons..\n",
      "Collette: You really expect me to tell you my measurements?\n",
      "Moe_Szyslak: You could, but I find this way is much more accurate... and fun.\n",
      "Collette: (DISGUSTED) what do you offer in the way of salary?\n",
      "Moe_Szyslak: Minimum wage and tips. (MEANINGFULLY) Of course there are fringe benefits.\n",
      "Collette: Such as?\n",
      "Moe_Szyslak: An unforgettable weekend at Club Moe.\n",
      "Collette: I prefer to take my vacations someplace hot.\n",
      "Moe_Szyslak: I like your moxie, kid. You're hired.\n",
      "Collette: You shan't regret this.\n",
      "Moe_Szyslak: Methinks I shan't.\n",
      "HARV: (TO MOE) Pardon me, are you the genius behind the \"Flaming Moe\"?\n",
      "Homer_Simpson: Why yes I --\n",
      "Moe_Szyslak: (CUTTING HIM OFF) I'm your man.\n",
      "HARV: Huh uh. My name is Harv Bannister. I work for \"Tipsy McStagger's Good Time Drinking and Eating Emporium\".\n",
      "Moe_Szyslak: Oh yeah? Hey, what's Mr. McStagger really like?\n",
      "HARV: Actually, there is no Tipsy McStagger. He's just a composite of other successful logos.\n",
      "Moe_Szyslak: Well, you tell him from me that he makes one great mozzarella stick.\n",
      "HARV: (QUICKLY) Yes, fine, I will. Anyway, I've got a proposition for you.\n",
      "Moe_Szyslak: Keep talkin'.\n",
      "HARV: We feel your \"Flaming Moe\" is perfect for our restaurant chain. We want to buy the recipe.\n",
      "Moe_Szyslak: No dice. The \"Flaming Moe\" is not for sale. Do you know how much of my blood and sweat are in this drink?\n",
      "Barney_Gumble: Good for you, Moe. Only an idiot would give away a million dollar idea like that.\n",
      "Moe_Szyslak: (TO HARV) I'm sorry, but the secret ingredient dies with me.\n",
      "Delivery_Man: (TO MOE) Thirty cases of cough syrup. Sign here.\n",
      "Moe_Szyslak: (COVERING NERVOUS LAUGHING) I got hooked on this stuff in the service.\n",
      "Homer_Simpson: (QUIETLY) Hi, Moe. Where's that waitress of yours?\n",
      "Moe_Szyslak: Ah, she left to pursue a movie career. Frankly I think she was better off here.\n",
      "Homer_Simpson: Moe, sorry I lost you hundreds of thousands of dollars.\n",
      "Moe_Szyslak: Oh, hey, hey. Maybe some things are too good to be kept a secret.\n",
      "Homer_Simpson: I guess so.\n",
      "Moe_Szyslak: Compliments of the house. (WARMLY) One \"Flaming Homer\".\n",
      "Homer_Simpson: Ahh. Thanks, Moe. You're the greatest friend a guy could ever have.\n",
      "Homer_Simpson: Hey, do you think Aerosmith will be in tonight?\n",
      "Moe_Szyslak: I doubt it.\n",
      "\n",
      "\n",
      "Moe_Szyslak: (SHOCKED) Are you sure? Cuz once I open the bottle there's no refund.\n",
      "Moe_Szyslak: Hey, Homer. Wanna Duff?\n",
      "Homer_Simpson: (SMOOTHLY) No, I'd like a bottle of Henry K. Duff's Private Reserve.\n",
      "Homer_Simpson: For your information, I just made a cool twenty-five dollars playing the market. Buy low, sell high, that's my motto. I may just quit my job at the power plant to become a full-time stock market guy.\n",
      "Homer_Simpson: Have a Duff, boys!\n",
      "Hans: (GERMAN ACCENT, FRIENDLY) Oh, thank you. My English is not perfect, but I have to tell you your beer is like swill to us. Do I have that right? I am saying that only a swine would drink this beer.\n",
      "Fritz: (GERMAN ACCENT) Yeah, but thank you anyway.\n",
      "Homer_Simpson: Hey, you guys aren't from around here, are you?\n",
      "Hans: Ech, nein. We are from Germany. He is from the East. I am from the West.\n",
      "Fritz: I had a big company and he had a big company. Now we have a very big company.\n",
      "Hans: We are interested in buying the power plant. Do you think the owner would ever sell it?\n",
      "Homer_Simpson: (VERY CONFIDENT) Well, I happen to know that he won't sell it for less than 100 million dollars.\n",
      "Fritz: A hundred million?\n",
      "Hans: Oh, don't worry! We'll still have enough left to buy the Cleveland Browns.\n",
      "Moe_Szyslak: (INTO PHONE) Moe's Tavern. Moe speaking.\n",
      "Bart_Simpson: (INTO PHONE) Uh yes, I'm looking for a Mrs. O'Problem. First name... Bee.\n",
      "Moe_Szyslak: (INTO PHONE) Ah, yeah. Just a minute, I'll check. (CALLING OUT) Uh, Bee O'Problem. Bee O'Problem. C'mon, guys. Do I have an O'Problem here?\n",
      "Barney_Gumble: You sure do!\n",
      "Moe_Szyslak: (REALIZING) Awwww. (INTO PHONE) It's you, isn't it?\n",
      "Moe_Szyslak: Listen you, when I get a hold of you, I'm gonna use your head for a bucket and paint my house with your brains!\n",
      "Bart_Simpson: Excuse me, I'm looking for --\n",
      "Moe_Szyslak: Wait a minute. I know that voice.\n",
      "Moe_Szyslak: If it isn't little Bart Simpson! I haven't seen you in years.\n",
      "Bart_Simpson: That's right. That's my pop!\n",
      "Moe_Szyslak: Ah, little Bart... we hear all about your monkeyshines.\n",
      "Moe_Szyslak: (CONSPIRATORIAL) Bet you get into all kinds of trouble he don't even know about. Am I right? Huh? Am I right?\n",
      "Bart_Simpson: (CAN'T RESIST) Yeah, well, I make some crank phone calls.\n",
      "Moe_Szyslak: (MUSSES BART'S HAIR) (LAUGHS) That's great! Hey, would you sing that old song you used to sing for me?\n",
      "Bart_Simpson: (A LITTLE EMBARRASSED) Moe, for you... anything?\n",
      "Bart_Simpson: (SINGING) EVERY TEDDY BEAR WHO'S BEEN GOOD IS SURE OF A TREAT TODAY/ THERE'S LOTS OF MARVELOUS THINGS TO EAT, AND WONDERFUL GAMES TO PLAY/ BENEATH THE TREES, WHERE NOBODY SEES/ THEY'LL HIDE AND SEEK AS LONG AS THEY PLEASE/ TODAY'S THE DAY THE TEDDY BEARS HAVE THEIR PICNIC!\n",
      "Moe_Szyslak: He's a pip, this one is!\n",
      "C._Montgomery_Burns: Ah, the mirthless laugh of the damned. Hold your nose, Smithers, we're going in!\n",
      "C._Montgomery_Burns: (TO SMITHERS) Watch me blend in. (TO MOE) Barkeep, some cheap domestic beer for me and my \"buddy\" here.\n",
      "Homer_Simpson: I'm not your buddy, you greedy old reptile!\n",
      "C._Montgomery_Burns: Smithers, who is this saucy fellow?\n",
      "Waylon_Smithers: Homer Simpson, sir. Sector Sieben-gruben -- I mean, Sector 7G. Recently terminated.\n",
      "Homer_Simpson: That's right. I lost my job so that you could have another 100 million dollars.\n",
      "Homer_Simpson: (POINTED) Let me ask you something. Does your money cheer you up when you're feeling blue?\n",
      "C._Montgomery_Burns: Yes.\n",
      "Homer_Simpson: Okay, bad example. So let me ask you this, does your money ever hug you when you come home at night?\n",
      "C._Montgomery_Burns: (SHAKEN) Why, no.\n",
      "Homer_Simpson: And does it ever say, \"I love you?\"\n",
      "C._Montgomery_Burns: (SHAKEN) No, it doesn't.\n",
      "Homer_Simpson: (SING-SONG) Nobody loves you. Nobody loves you. You're old and you're ugly. Nobody loves you. Yea, yea, yea yea!\n",
      "Homer_Simpson: Nobody loves you...\n",
      "C._Montgomery_Burns: Good heavens, Smithers! They're not afraid of me anymore!\n",
      "Bart_Simpson: Hey Mr. Burns, did you get that letter I sent?\n",
      "C._Montgomery_Burns: Letter? I don't recall any letter...\n",
      "Bart_Simpson: That's because I forgot to stamp it.\n",
      "Moe_Szyslak: (LAUGHING) Ah, that kid slays me.\n",
      "C._Montgomery_Burns: That was no accident. Let's get out of here.\n",
      "Homer_Simpson: (SINGING) Na na na na / Na na na na /\n",
      "Barflies: Hey hey hey / Goodbye -- Na na na na / na na na na / hey hey hey / goodbye...\n",
      "C._Montgomery_Burns: What good is money if you can't inspire terror in your fellow man? (DETERMINED) I've got to get my plant back!\n"
     ]
    }
   ],
   "source": [
    "view_sentence_range = (0, 200)\n",
    "\n",
    "\"\"\"\n",
    "DON'T MODIFY ANYTHING IN THIS CELL\n",
    "\"\"\"\n",
    "import numpy as np\n",
    "\n",
    "print('Dataset Stats')\n",
    "print('Roughly the number of unique words: {}'.format(len({word: None for word in text.split()})))\n",
    "scenes = text.split('\\n\\n')\n",
    "print('Number of scenes: {}'.format(len(scenes)))\n",
    "sentence_count_scene = [scene.count('\\n') for scene in scenes]\n",
    "print('Average number of sentences in each scene: {}'.format(np.average(sentence_count_scene)))\n",
    "\n",
    "sentences = [sentence for scene in scenes for sentence in scene.split('\\n')]\n",
    "print('Number of lines: {}'.format(len(sentences)))\n",
    "word_count_sentence = [len(sentence.split()) for sentence in sentences]\n",
    "print('Average number of words in each line: {}'.format(np.average(word_count_sentence)))\n",
    "\n",
    "print()\n",
    "print('The sentences {} to {}:'.format(*view_sentence_range))\n",
    "print('\\n'.join(text.split('\\n')[view_sentence_range[0]:view_sentence_range[1]]))"
   ]
  },
  {
   "cell_type": "markdown",
   "metadata": {
    "deletable": true,
    "editable": true
   },
   "source": [
    "## Implement Preprocessing Functions\n",
    "The first thing to do to any dataset is preprocessing.  Implement the following preprocessing functions below:\n",
    "- Lookup Table\n",
    "- Tokenize Punctuation\n",
    "\n",
    "### Lookup Table\n",
    "To create a word embedding, you first need to transform the words to ids.  In this function, create two dictionaries:\n",
    "- Dictionary to go from the words to an id, we'll call `vocab_to_int`\n",
    "- Dictionary to go from the id to word, we'll call `int_to_vocab`\n",
    "\n",
    "Return these dictionaries in the following tuple `(vocab_to_int, int_to_vocab)`"
   ]
  },
  {
   "cell_type": "code",
   "execution_count": 3,
   "metadata": {
    "collapsed": false,
    "deletable": true,
    "editable": true
   },
   "outputs": [
    {
     "name": "stdout",
     "output_type": "stream",
     "text": [
      "Tests Passed\n"
     ]
    }
   ],
   "source": [
    "import numpy as np\n",
    "import problem_unittests as tests\n",
    "from string import punctuation\n",
    "from collections import Counter\n",
    "\n",
    "def create_lookup_tables(text):\n",
    "    \"\"\"\n",
    "    Create lookup tables for vocabulary\n",
    "    :param text: The text of tv scripts split into words\n",
    "    :return: A tuple of dicts (vocab_to_int, int_to_vocab)\n",
    "    \"\"\"\n",
    "    counts = Counter(text)\n",
    "    \n",
    "    vocab_tuple_list = sorted(counts.items(), key=lambda x: x[1], reverse=True)\n",
    "    vocab_to_int = {word_tuple[0]: i for i, word_tuple in enumerate(vocab_tuple_list)}\n",
    "\n",
    "    int_to_vocab = {integer: word for word, integer in vocab_to_int.items()}\n",
    "    \n",
    "    return vocab_to_int, int_to_vocab\n",
    "    \n",
    "\n",
    "\"\"\"\n",
    "DON'T MODIFY ANYTHING IN THIS CELL THAT IS BELOW THIS LINE\n",
    "\"\"\"\n",
    "tests.test_create_lookup_tables(create_lookup_tables)"
   ]
  },
  {
   "cell_type": "markdown",
   "metadata": {
    "deletable": true,
    "editable": true
   },
   "source": [
    "### Tokenize Punctuation\n",
    "We'll be splitting the script into a word array using spaces as delimiters.  However, punctuations like periods and exclamation marks make it hard for the neural network to distinguish between the word \"bye\" and \"bye!\".\n",
    "\n",
    "Implement the function `token_lookup` to return a dict that will be used to tokenize symbols like \"!\" into \"||Exclamation_Mark||\".  Create a dictionary for the following symbols where the symbol is the key and value is the token:\n",
    "- Period ( . )\n",
    "- Comma ( , )\n",
    "- Quotation Mark ( \" )\n",
    "- Semicolon ( ; )\n",
    "- Exclamation mark ( ! )\n",
    "- Question mark ( ? )\n",
    "- Left Parentheses ( ( )\n",
    "- Right Parentheses ( ) )\n",
    "- Dash ( -- )\n",
    "- Return ( \\n )\n",
    "\n",
    "This dictionary will be used to token the symbols and add the delimiter (space) around it.  This separates the symbols as it's own word, making it easier for the neural network to predict on the next word. Make sure you don't use a token that could be confused as a word. Instead of using the token \"dash\", try using something like \"||dash||\"."
   ]
  },
  {
   "cell_type": "code",
   "execution_count": 4,
   "metadata": {
    "collapsed": false,
    "deletable": true,
    "editable": true
   },
   "outputs": [
    {
     "name": "stdout",
     "output_type": "stream",
     "text": [
      "Tests Passed\n"
     ]
    }
   ],
   "source": [
    "def token_lookup():\n",
    "    \"\"\"\n",
    "    Generate a dict to turn punctuation into a token.\n",
    "    :return: Tokenize dictionary where the key is the punctuation and the value is the token\n",
    "    \"\"\"\n",
    "    \n",
    "    return {'.': '||period||', ',': '||comma||', '\"': '||quotation_mark||', ';': '||semicolon||', '!': '||exclamation_mark||',\n",
    "           '?': '||question_mark||', '(': '||left_parentheses||', ')': '||right_parentheses||', '--': '||dash||', '\\n': '||return||'}\n",
    "\n",
    "\"\"\"\n",
    "DON'T MODIFY ANYTHING IN THIS CELL THAT IS BELOW THIS LINE\n",
    "\"\"\"\n",
    "tests.test_tokenize(token_lookup)"
   ]
  },
  {
   "cell_type": "markdown",
   "metadata": {
    "deletable": true,
    "editable": true
   },
   "source": [
    "## Preprocess all the data and save it\n",
    "Running the code cell below will preprocess all the data and save it to file."
   ]
  },
  {
   "cell_type": "code",
   "execution_count": 5,
   "metadata": {
    "collapsed": false,
    "deletable": true,
    "editable": true
   },
   "outputs": [],
   "source": [
    "\"\"\"\n",
    "DON'T MODIFY ANYTHING IN THIS CELL\n",
    "\"\"\"\n",
    "# Preprocess Training, Validation, and Testing Data\n",
    "helper.preprocess_and_save_data(data_dir, token_lookup, create_lookup_tables)"
   ]
  },
  {
   "cell_type": "markdown",
   "metadata": {
    "deletable": true,
    "editable": true
   },
   "source": [
    "# Check Point\n",
    "This is your first checkpoint. If you ever decide to come back to this notebook or have to restart the notebook, you can start from here. The preprocessed data has been saved to disk."
   ]
  },
  {
   "cell_type": "code",
   "execution_count": 6,
   "metadata": {
    "collapsed": false,
    "deletable": true,
    "editable": true
   },
   "outputs": [],
   "source": [
    "\"\"\"\n",
    "DON'T MODIFY ANYTHING IN THIS CELL\n",
    "\"\"\"\n",
    "import helper\n",
    "import numpy as np\n",
    "import problem_unittests as tests\n",
    "\n",
    "int_text, vocab_to_int, int_to_vocab, token_dict = helper.load_preprocess()"
   ]
  },
  {
   "cell_type": "markdown",
   "metadata": {
    "deletable": true,
    "editable": true
   },
   "source": [
    "## Build the Neural Network\n",
    "You'll build the components necessary to build a RNN by implementing the following functions below:\n",
    "- get_inputs\n",
    "- get_init_cell\n",
    "- get_embed\n",
    "- build_rnn\n",
    "- build_nn\n",
    "- get_batches\n",
    "\n",
    "### Check the Version of TensorFlow and Access to GPU"
   ]
  },
  {
   "cell_type": "code",
   "execution_count": 7,
   "metadata": {
    "collapsed": false
   },
   "outputs": [
    {
     "name": "stdout",
     "output_type": "stream",
     "text": [
      "TensorFlow Version: 1.0.1\n",
      "Default GPU Device: /gpu:0\n"
     ]
    }
   ],
   "source": [
    "\"\"\"\n",
    "DON'T MODIFY ANYTHING IN THIS CELL\n",
    "\"\"\"\n",
    "from distutils.version import LooseVersion\n",
    "import warnings\n",
    "import tensorflow as tf\n",
    "\n",
    "# Check TensorFlow Version\n",
    "assert LooseVersion(tf.__version__) >= LooseVersion('1.0'), 'Please use TensorFlow version 1.0 or newer'\n",
    "print('TensorFlow Version: {}'.format(tf.__version__))\n",
    "\n",
    "# Check for a GPU\n",
    "if not tf.test.gpu_device_name():\n",
    "    warnings.warn('No GPU found. Please use a GPU to train your neural network.')\n",
    "else:\n",
    "    print('Default GPU Device: {}'.format(tf.test.gpu_device_name()))"
   ]
  },
  {
   "cell_type": "markdown",
   "metadata": {},
   "source": [
    "### Input\n",
    "Implement the `get_inputs()` function to create TF Placeholders for the Neural Network.  It should create the following placeholders:\n",
    "- Input text placeholder named \"input\" using the [TF Placeholder](https://www.tensorflow.org/api_docs/python/tf/placeholder) `name` parameter.\n",
    "- Targets placeholder\n",
    "- Learning Rate placeholder\n",
    "\n",
    "Return the placeholders in the following tuple `(Input, Targets, LearningRate)`"
   ]
  },
  {
   "cell_type": "code",
   "execution_count": 8,
   "metadata": {
    "collapsed": false,
    "deletable": true,
    "editable": true
   },
   "outputs": [
    {
     "name": "stdout",
     "output_type": "stream",
     "text": [
      "Tests Passed\n"
     ]
    }
   ],
   "source": [
    "def get_inputs():\n",
    "    \"\"\"\n",
    "    Create TF Placeholders for input, targets, and learning rate.\n",
    "    :return: Tuple (input, targets, learning rate)\n",
    "    \"\"\"\n",
    "    \n",
    "    inputs = tf.placeholder(tf.int32, shape=(None, None), name='input') # (batch_size, seq_length)\n",
    "    targets = tf.placeholder(tf.int32, shape=(None, None), name='targets') # (batch_size, seq_length)\n",
    "    learning_rate = tf.placeholder(tf.float32, name='learning_rate') # scalar\n",
    "    \n",
    "    return inputs, targets, learning_rate\n",
    "\n",
    "\n",
    "\"\"\"\n",
    "DON'T MODIFY ANYTHING IN THIS CELL THAT IS BELOW THIS LINE\n",
    "\"\"\"\n",
    "tests.test_get_inputs(get_inputs)"
   ]
  },
  {
   "cell_type": "markdown",
   "metadata": {
    "deletable": true,
    "editable": true
   },
   "source": [
    "### Build RNN Cell and Initialize\n",
    "Stack one or more [`BasicLSTMCells`](https://www.tensorflow.org/api_docs/python/tf/contrib/rnn/BasicLSTMCell) in a [`MultiRNNCell`](https://www.tensorflow.org/api_docs/python/tf/contrib/rnn/MultiRNNCell).\n",
    "- The Rnn size should be set using `rnn_size`\n",
    "- Initalize Cell State using the MultiRNNCell's [`zero_state()`](https://www.tensorflow.org/api_docs/python/tf/contrib/rnn/MultiRNNCell#zero_state) function\n",
    "    - Apply the name \"initial_state\" to the initial state using [`tf.identity()`](https://www.tensorflow.org/api_docs/python/tf/identity)\n",
    "\n",
    "Return the cell and initial state in the following tuple `(Cell, InitialState)`"
   ]
  },
  {
   "cell_type": "code",
   "execution_count": 9,
   "metadata": {
    "collapsed": false,
    "deletable": true,
    "editable": true,
    "scrolled": true
   },
   "outputs": [
    {
     "name": "stdout",
     "output_type": "stream",
     "text": [
      "Tests Passed\n"
     ]
    }
   ],
   "source": [
    "import inspect\n",
    "\n",
    "def get_init_cell(batch_size, rnn_size):\n",
    "    \"\"\"\n",
    "    Create an RNN Cell and initialize it.\n",
    "    :param batch_size: Size of batches\n",
    "    :param rnn_size: Size of RNNs\n",
    "    :return: Tuple (cell, initialize state)\n",
    "    \"\"\"\n",
    "    keep_prob = 1\n",
    "    lstm_layers = 2\n",
    "    \n",
    "    lstm = tf.contrib.rnn.BasicLSTMCell(rnn_size, state_is_tuple=True) # rnn_size -> # h_dim/C_dim\n",
    "    \n",
    "    # Add dropout to the cell\n",
    "    drop = tf.contrib.rnn.DropoutWrapper(lstm, output_keep_prob=keep_prob)\n",
    "\n",
    "    # Stack up multiple LSTM layers, for deep learning\n",
    "    cell = tf.contrib.rnn.MultiRNNCell([drop] * lstm_layers, state_is_tuple=True)\n",
    "    \n",
    "\n",
    "    # Getting an initial state of all zeros\n",
    "    initial_state = cell.zero_state(batch_size, tf.float32)\n",
    "    initial_state = tf.identity(initial_state, name='initial_state')\n",
    "\n",
    "    return cell, initial_state\n",
    "\n",
    "\"\"\"\n",
    "DON'T MODIFY ANYTHING IN THIS CELL THAT IS BELOW THIS LINE\n",
    "\"\"\"\n",
    "tests.test_get_init_cell(get_init_cell)"
   ]
  },
  {
   "cell_type": "markdown",
   "metadata": {
    "deletable": true,
    "editable": true
   },
   "source": [
    "### Word Embedding\n",
    "Apply embedding to `input_data` using TensorFlow.  Return the embedded sequence."
   ]
  },
  {
   "cell_type": "code",
   "execution_count": 10,
   "metadata": {
    "collapsed": false,
    "deletable": true,
    "editable": true
   },
   "outputs": [
    {
     "name": "stdout",
     "output_type": "stream",
     "text": [
      "Tests Passed\n"
     ]
    }
   ],
   "source": [
    "def get_embed(input_data, vocab_size, embed_dim):\n",
    "    \"\"\"\n",
    "    Create embedding for <input_data>.\n",
    "    :param input_data: TF placeholder for text input.\n",
    "    :param vocab_size: Number of words in vocabulary.\n",
    "    :param embed_dim: Number of embedding dimensions\n",
    "    :return: Embedded input.\n",
    "    \"\"\"\n",
    "    \n",
    "    embedding = tf.Variable(tf.truncated_normal((vocab_size, embed_dim)))\n",
    "    embed = tf.nn.embedding_lookup(embedding, input_data)\n",
    "    \n",
    "    return embed\n",
    "\n",
    "\n",
    "\"\"\"\n",
    "DON'T MODIFY ANYTHING IN THIS CELL THAT IS BELOW THIS LINE\n",
    "\"\"\"\n",
    "tests.test_get_embed(get_embed)"
   ]
  },
  {
   "cell_type": "markdown",
   "metadata": {
    "deletable": true,
    "editable": true
   },
   "source": [
    "### Build RNN\n",
    "You created a RNN Cell in the `get_init_cell()` function.  Time to use the cell to create a RNN.\n",
    "- Build the RNN using the [`tf.nn.dynamic_rnn()`](https://www.tensorflow.org/api_docs/python/tf/nn/dynamic_rnn)\n",
    " - Apply the name \"final_state\" to the final state using [`tf.identity()`](https://www.tensorflow.org/api_docs/python/tf/identity)\n",
    "\n",
    "Return the outputs and final_state state in the following tuple `(Outputs, FinalState)` "
   ]
  },
  {
   "cell_type": "code",
   "execution_count": 11,
   "metadata": {
    "collapsed": false,
    "deletable": true,
    "editable": true
   },
   "outputs": [
    {
     "name": "stdout",
     "output_type": "stream",
     "text": [
      "Tests Passed\n"
     ]
    }
   ],
   "source": [
    "def build_rnn(cell, inputs):\n",
    "    \"\"\"\n",
    "    Create a RNN using a RNN Cell\n",
    "    :param cell: RNN Cell\n",
    "    :param inputs: Input text data\n",
    "    :return: Tuple (Outputs, Final State)\n",
    "    \"\"\"\n",
    "    \n",
    "    outputs, final_state = tf.nn.dynamic_rnn(cell, inputs, dtype=tf.float32)\n",
    "    final_state = tf.identity(final_state, name='final_state')\n",
    "    \n",
    "    return outputs, final_state\n",
    "\n",
    "\n",
    "\"\"\"\n",
    "DON'T MODIFY ANYTHING IN THIS CELL THAT IS BELOW THIS LINE\n",
    "\"\"\"\n",
    "tests.test_build_rnn(build_rnn)"
   ]
  },
  {
   "cell_type": "markdown",
   "metadata": {
    "deletable": true,
    "editable": true
   },
   "source": [
    "### Build the Neural Network\n",
    "Apply the functions you implemented above to:\n",
    "- Apply embedding to `input_data` using your `get_embed(input_data, vocab_size, embed_dim)` function.\n",
    "- Build RNN using `cell` and your `build_rnn(cell, inputs)` function.\n",
    "- Apply a fully connected layer with a linear activation and `vocab_size` as the number of outputs.\n",
    "\n",
    "Return the logits and final state in the following tuple (Logits, FinalState) "
   ]
  },
  {
   "cell_type": "code",
   "execution_count": 12,
   "metadata": {
    "collapsed": false,
    "deletable": true,
    "editable": true
   },
   "outputs": [
    {
     "name": "stdout",
     "output_type": "stream",
     "text": [
      "Tests Passed\n"
     ]
    }
   ],
   "source": [
    "def build_nn(cell, rnn_size, input_data, vocab_size, embed_dim):\n",
    "    \"\"\"\n",
    "    Build part of the neural network\n",
    "    :param cell: RNN cell\n",
    "    :param rnn_size: Size of rnns\n",
    "    :param input_data: Input data\n",
    "    :param vocab_size: Vocabulary size\n",
    "    :param embed_dim: Number of embedding dimensions\n",
    "    :return: Tuple (Logits, FinalState)\n",
    "    \"\"\"\n",
    "        \n",
    "    embed = get_embed(input_data, vocab_size, embed_dim)\n",
    "    outputs, final_state = build_rnn(cell, embed)\n",
    "    \n",
    "    logits = tf.contrib.layers.fully_connected(outputs, vocab_size, activation_fn=None, weights_initializer = tf.truncated_normal_initializer(stddev=0.1), biases_initializer=tf.zeros_initializer())\n",
    "    \n",
    "    return logits, final_state\n",
    "\n",
    "\n",
    "\"\"\"\n",
    "DON'T MODIFY ANYTHING IN THIS CELL THAT IS BELOW THIS LINE\n",
    "\"\"\"\n",
    "tests.test_build_nn(build_nn)"
   ]
  },
  {
   "cell_type": "markdown",
   "metadata": {
    "deletable": true,
    "editable": true
   },
   "source": [
    "### Batches\n",
    "Implement `get_batches` to create batches of input and targets using `int_text`.  The batches should be a Numpy array with the shape `(number of batches, 2, batch size, sequence length)`. Each batch contains two elements:\n",
    "- The first element is a single batch of **input** with the shape `[batch size, sequence length]`\n",
    "- The second element is a single batch of **targets** with the shape `[batch size, sequence length]`\n",
    "\n",
    "If you can't fill the last batch with enough data, drop the last batch.\n",
    "\n",
    "For exmple, `get_batches([1, 2, 3, 4, 5, 6, 7, 8, 9, 10, 11, 12, 13, 14, 15], 2, 3)` would return a Numpy array of the following:\n",
    "```\n",
    "[\n",
    "  # First Batch\n",
    "  [\n",
    "    # Batch of Input\n",
    "    [[ 1  2  3], [ 7  8  9]],\n",
    "    # Batch of targets\n",
    "    [[ 2  3  4], [ 8  9 10]]\n",
    "  ],\n",
    " \n",
    "  # Second Batch\n",
    "  [\n",
    "    # Batch of Input\n",
    "    [[ 4  5  6], [10 11 12]],\n",
    "    # Batch of targets\n",
    "    [[ 5  6  7], [11 12 13]]\n",
    "  ]\n",
    "]\n",
    "```"
   ]
  },
  {
   "cell_type": "code",
   "execution_count": 13,
   "metadata": {
    "collapsed": false,
    "deletable": true,
    "editable": true
   },
   "outputs": [
    {
     "name": "stdout",
     "output_type": "stream",
     "text": [
      "Tests Passed\n"
     ]
    }
   ],
   "source": [
    "def get_batches(int_text, batch_size, seq_length):\n",
    "    \"\"\"\n",
    "    Return batches of input and target\n",
    "    :param int_text: Text with the words replaced by their ids\n",
    "    :param batch_size: The size of batch\n",
    "    :param seq_length: The length of sequence\n",
    "    :return: Batches as a Numpy array\n",
    "    \"\"\"\n",
    "\n",
    "    n_batches = int(len(int_text) / (batch_size * seq_length))\n",
    "    \n",
    "    x_all = np.array(int_text[: n_batches * batch_size * seq_length])\n",
    "    y_all = np.array(int_text[1: n_batches * batch_size * seq_length + 1])\n",
    "\n",
    "    x = np.split(x_all.reshape(batch_size, -1), n_batches, axis=1)\n",
    "    y = np.split(y_all.reshape(batch_size, -1), n_batches, axis=1)\n",
    "\n",
    "    result = np.array(list(zip(x, y)))\n",
    "    \n",
    "    return result\n",
    "\n",
    "\"\"\"\n",
    "DON'T MODIFY ANYTHING IN THIS CELL THAT IS BELOW THIS LINE\n",
    "\"\"\"\n",
    "tests.test_get_batches(get_batches)"
   ]
  },
  {
   "cell_type": "markdown",
   "metadata": {
    "deletable": true,
    "editable": true
   },
   "source": [
    "## Neural Network Training\n",
    "### Hyperparameters\n",
    "Tune the following parameters:\n",
    "\n",
    "- Set `num_epochs` to the number of epochs.\n",
    "- Set `batch_size` to the batch size.\n",
    "- Set `rnn_size` to the size of the RNNs.\n",
    "- Set `embed_dim` to the size of the embedding.\n",
    "- Set `seq_length` to the length of sequence.\n",
    "- Set `learning_rate` to the learning rate.\n",
    "- Set `show_every_n_batches` to the number of batches the neural network should print progress."
   ]
  },
  {
   "cell_type": "code",
   "execution_count": 14,
   "metadata": {
    "collapsed": false,
    "deletable": true,
    "editable": true
   },
   "outputs": [
    {
     "name": "stdout",
     "output_type": "stream",
     "text": [
      "(number of batches, 2, batch size, sequence length)\n",
      "(11, 2, 200, 30)\n"
     ]
    }
   ],
   "source": [
    "# Number of Epochs\n",
    "num_epochs = 200\n",
    "# Batch Size\n",
    "batch_size = 200\n",
    "# RNN Size\n",
    "rnn_size = 512\n",
    "# Embedding Dimension Size\n",
    "embed_dim = 300\n",
    "# Sequence Length\n",
    "seq_length = 30\n",
    "# Learning Rate\n",
    "learning_rate = 0.003\n",
    "# Show stats for every n number of batches\n",
    "show_every_n_batches = 10\n",
    "\n",
    "\n",
    "batches = get_batches(int_text, batch_size, seq_length)\n",
    "print(\"(number of batches, 2, batch size, sequence length)\")\n",
    "print(batches.shape)\n",
    "\n",
    "\"\"\"\n",
    "DON'T MODIFY ANYTHING IN THIS CELL THAT IS BELOW THIS LINE\n",
    "\"\"\"\n",
    "save_dir = './save'"
   ]
  },
  {
   "cell_type": "markdown",
   "metadata": {
    "deletable": true,
    "editable": true
   },
   "source": [
    "### Build the Graph\n",
    "Build the graph using the neural network you implemented."
   ]
  },
  {
   "cell_type": "code",
   "execution_count": 15,
   "metadata": {
    "collapsed": false,
    "deletable": true,
    "editable": true
   },
   "outputs": [],
   "source": [
    "\"\"\"\n",
    "DON'T MODIFY ANYTHING IN THIS CELL\n",
    "\"\"\"\n",
    "from tensorflow.contrib import seq2seq\n",
    "\n",
    "train_graph = tf.Graph()\n",
    "with train_graph.as_default():\n",
    "    vocab_size = len(int_to_vocab)\n",
    "    input_text, targets, lr = get_inputs()\n",
    "    input_data_shape = tf.shape(input_text)\n",
    "    cell, initial_state = get_init_cell(input_data_shape[0], rnn_size)\n",
    "    logits, final_state = build_nn(cell, rnn_size, input_text, vocab_size, embed_dim)\n",
    "\n",
    "    # Probabilities for generating words\n",
    "    probs = tf.nn.softmax(logits, name='probs')\n",
    "\n",
    "    # Loss function\n",
    "    cost = seq2seq.sequence_loss(\n",
    "        logits,\n",
    "        targets,\n",
    "        tf.ones([input_data_shape[0], input_data_shape[1]]))\n",
    "    # Optimizer\n",
    "    optimizer = tf.train.AdamOptimizer(lr)\n",
    "\n",
    "    # Gradient Clipping\n",
    "    gradients = optimizer.compute_gradients(cost)\n",
    "    capped_gradients = [(tf.clip_by_value(grad, -1., 1.), var) for grad, var in gradients]\n",
    "    train_op = optimizer.apply_gradients(capped_gradients)"
   ]
  },
  {
   "cell_type": "markdown",
   "metadata": {
    "deletable": true,
    "editable": true
   },
   "source": [
    "## Train\n",
    "Train the neural network on the preprocessed data.  If you have a hard time getting a good loss, check the [forms](https://discussions.udacity.com/) to see if anyone is having the same problem."
   ]
  },
  {
   "cell_type": "code",
   "execution_count": 16,
   "metadata": {
    "collapsed": false,
    "deletable": true,
    "editable": true,
    "scrolled": false
   },
   "outputs": [
    {
     "name": "stdout",
     "output_type": "stream",
     "text": [
      "Epoch   0 Batch    0/11   train_loss = 8.838\n",
      "Epoch   0 Batch   10/11   train_loss = 6.196\n",
      "Epoch   1 Batch    9/11   train_loss = 5.621\n",
      "Epoch   2 Batch    8/11   train_loss = 5.356\n",
      "Epoch   3 Batch    7/11   train_loss = 5.127\n",
      "Epoch   4 Batch    6/11   train_loss = 4.917\n",
      "Epoch   5 Batch    5/11   train_loss = 4.674\n",
      "Epoch   6 Batch    4/11   train_loss = 4.468\n",
      "Epoch   7 Batch    3/11   train_loss = 4.324\n",
      "Epoch   8 Batch    2/11   train_loss = 4.130\n",
      "Epoch   9 Batch    1/11   train_loss = 3.980\n",
      "Epoch  10 Batch    0/11   train_loss = 3.772\n",
      "Epoch  10 Batch   10/11   train_loss = 3.584\n",
      "Epoch  11 Batch    9/11   train_loss = 3.446\n",
      "Epoch  12 Batch    8/11   train_loss = 3.290\n",
      "Epoch  13 Batch    7/11   train_loss = 3.091\n",
      "Epoch  14 Batch    6/11   train_loss = 2.897\n",
      "Epoch  15 Batch    5/11   train_loss = 2.627\n",
      "Epoch  16 Batch    4/11   train_loss = 2.428\n",
      "Epoch  17 Batch    3/11   train_loss = 2.344\n",
      "Epoch  18 Batch    2/11   train_loss = 2.154\n",
      "Epoch  19 Batch    1/11   train_loss = 1.983\n",
      "Epoch  20 Batch    0/11   train_loss = 1.863\n",
      "Epoch  20 Batch   10/11   train_loss = 1.662\n",
      "Epoch  21 Batch    9/11   train_loss = 1.540\n",
      "Epoch  22 Batch    8/11   train_loss = 1.401\n",
      "Epoch  23 Batch    7/11   train_loss = 1.274\n",
      "Epoch  24 Batch    6/11   train_loss = 1.177\n",
      "Epoch  25 Batch    5/11   train_loss = 1.055\n",
      "Epoch  26 Batch    4/11   train_loss = 0.952\n",
      "Epoch  27 Batch    3/11   train_loss = 0.858\n",
      "Epoch  28 Batch    2/11   train_loss = 0.784\n",
      "Epoch  29 Batch    1/11   train_loss = 0.659\n",
      "Epoch  30 Batch    0/11   train_loss = 0.602\n",
      "Epoch  30 Batch   10/11   train_loss = 0.529\n",
      "Epoch  31 Batch    9/11   train_loss = 0.474\n",
      "Epoch  32 Batch    8/11   train_loss = 0.442\n",
      "Epoch  33 Batch    7/11   train_loss = 0.378\n",
      "Epoch  34 Batch    6/11   train_loss = 0.310\n",
      "Epoch  35 Batch    5/11   train_loss = 0.267\n",
      "Epoch  36 Batch    4/11   train_loss = 0.234\n",
      "Epoch  37 Batch    3/11   train_loss = 0.207\n",
      "Epoch  38 Batch    2/11   train_loss = 0.197\n",
      "Epoch  39 Batch    1/11   train_loss = 0.180\n",
      "Epoch  40 Batch    0/11   train_loss = 0.161\n",
      "Epoch  40 Batch   10/11   train_loss = 0.156\n",
      "Epoch  41 Batch    9/11   train_loss = 0.141\n",
      "Epoch  42 Batch    8/11   train_loss = 0.133\n",
      "Epoch  43 Batch    7/11   train_loss = 0.124\n",
      "Epoch  44 Batch    6/11   train_loss = 0.133\n",
      "Epoch  45 Batch    5/11   train_loss = 0.121\n",
      "Epoch  46 Batch    4/11   train_loss = 0.112\n",
      "Epoch  47 Batch    3/11   train_loss = 0.130\n",
      "Epoch  48 Batch    2/11   train_loss = 0.128\n",
      "Epoch  49 Batch    1/11   train_loss = 0.143\n",
      "Epoch  50 Batch    0/11   train_loss = 0.178\n",
      "Epoch  50 Batch   10/11   train_loss = 0.148\n",
      "Epoch  51 Batch    9/11   train_loss = 0.168\n",
      "Epoch  52 Batch    8/11   train_loss = 0.142\n",
      "Epoch  53 Batch    7/11   train_loss = 0.138\n",
      "Epoch  54 Batch    6/11   train_loss = 0.122\n",
      "Epoch  55 Batch    5/11   train_loss = 0.141\n",
      "Epoch  56 Batch    4/11   train_loss = 0.106\n",
      "Epoch  57 Batch    3/11   train_loss = 0.139\n",
      "Epoch  58 Batch    2/11   train_loss = 0.103\n",
      "Epoch  59 Batch    1/11   train_loss = 0.107\n",
      "Epoch  60 Batch    0/11   train_loss = 0.099\n",
      "Epoch  60 Batch   10/11   train_loss = 0.094\n",
      "Epoch  61 Batch    9/11   train_loss = 0.095\n",
      "Epoch  62 Batch    8/11   train_loss = 0.092\n",
      "Epoch  63 Batch    7/11   train_loss = 0.093\n",
      "Epoch  64 Batch    6/11   train_loss = 0.095\n",
      "Epoch  65 Batch    5/11   train_loss = 0.093\n",
      "Epoch  66 Batch    4/11   train_loss = 0.087\n",
      "Epoch  67 Batch    3/11   train_loss = 0.096\n",
      "Epoch  68 Batch    2/11   train_loss = 0.084\n",
      "Epoch  69 Batch    1/11   train_loss = 0.094\n",
      "Epoch  70 Batch    0/11   train_loss = 0.091\n",
      "Epoch  70 Batch   10/11   train_loss = 0.089\n",
      "Epoch  71 Batch    9/11   train_loss = 0.091\n",
      "Epoch  72 Batch    8/11   train_loss = 0.088\n",
      "Epoch  73 Batch    7/11   train_loss = 0.090\n",
      "Epoch  74 Batch    6/11   train_loss = 0.092\n",
      "Epoch  75 Batch    5/11   train_loss = 0.091\n",
      "Epoch  76 Batch    4/11   train_loss = 0.084\n",
      "Epoch  77 Batch    3/11   train_loss = 0.093\n",
      "Epoch  78 Batch    2/11   train_loss = 0.082\n",
      "Epoch  79 Batch    1/11   train_loss = 0.092\n",
      "Epoch  80 Batch    0/11   train_loss = 0.089\n",
      "Epoch  80 Batch   10/11   train_loss = 0.087\n",
      "Epoch  81 Batch    9/11   train_loss = 0.089\n",
      "Epoch  82 Batch    8/11   train_loss = 0.086\n",
      "Epoch  83 Batch    7/11   train_loss = 0.089\n",
      "Epoch  84 Batch    6/11   train_loss = 0.091\n",
      "Epoch  85 Batch    5/11   train_loss = 0.089\n",
      "Epoch  86 Batch    4/11   train_loss = 0.083\n",
      "Epoch  87 Batch    3/11   train_loss = 0.092\n",
      "Epoch  88 Batch    2/11   train_loss = 0.081\n",
      "Epoch  89 Batch    1/11   train_loss = 0.091\n",
      "Epoch  90 Batch    0/11   train_loss = 0.088\n",
      "Epoch  90 Batch   10/11   train_loss = 0.086\n",
      "Epoch  91 Batch    9/11   train_loss = 0.089\n",
      "Epoch  92 Batch    8/11   train_loss = 0.086\n",
      "Epoch  93 Batch    7/11   train_loss = 0.088\n",
      "Epoch  94 Batch    6/11   train_loss = 0.090\n",
      "Epoch  95 Batch    5/11   train_loss = 0.088\n",
      "Epoch  96 Batch    4/11   train_loss = 0.082\n",
      "Epoch  97 Batch    3/11   train_loss = 0.091\n",
      "Epoch  98 Batch    2/11   train_loss = 0.081\n",
      "Epoch  99 Batch    1/11   train_loss = 0.090\n",
      "Epoch 100 Batch    0/11   train_loss = 0.087\n",
      "Epoch 100 Batch   10/11   train_loss = 0.085\n",
      "Epoch 101 Batch    9/11   train_loss = 0.088\n",
      "Epoch 102 Batch    8/11   train_loss = 0.085\n",
      "Epoch 103 Batch    7/11   train_loss = 0.087\n",
      "Epoch 104 Batch    6/11   train_loss = 0.089\n",
      "Epoch 105 Batch    5/11   train_loss = 0.088\n",
      "Epoch 106 Batch    4/11   train_loss = 0.081\n",
      "Epoch 107 Batch    3/11   train_loss = 0.091\n",
      "Epoch 108 Batch    2/11   train_loss = 0.079\n",
      "Epoch 109 Batch    1/11   train_loss = 0.090\n",
      "Epoch 110 Batch    0/11   train_loss = 0.087\n",
      "Epoch 110 Batch   10/11   train_loss = 0.084\n",
      "Epoch 111 Batch    9/11   train_loss = 0.087\n",
      "Epoch 112 Batch    8/11   train_loss = 0.084\n",
      "Epoch 113 Batch    7/11   train_loss = 0.087\n",
      "Epoch 114 Batch    6/11   train_loss = 0.089\n",
      "Epoch 115 Batch    5/11   train_loss = 0.087\n",
      "Epoch 116 Batch    4/11   train_loss = 0.081\n",
      "Epoch 117 Batch    3/11   train_loss = 0.090\n",
      "Epoch 118 Batch    2/11   train_loss = 0.079\n",
      "Epoch 119 Batch    1/11   train_loss = 0.090\n",
      "Epoch 120 Batch    0/11   train_loss = 0.087\n",
      "Epoch 120 Batch   10/11   train_loss = 0.084\n",
      "Epoch 121 Batch    9/11   train_loss = 0.087\n",
      "Epoch 122 Batch    8/11   train_loss = 0.084\n",
      "Epoch 123 Batch    7/11   train_loss = 0.086\n",
      "Epoch 124 Batch    6/11   train_loss = 0.089\n",
      "Epoch 125 Batch    5/11   train_loss = 0.087\n",
      "Epoch 126 Batch    4/11   train_loss = 0.081\n",
      "Epoch 127 Batch    3/11   train_loss = 0.090\n",
      "Epoch 128 Batch    2/11   train_loss = 0.079\n",
      "Epoch 129 Batch    1/11   train_loss = 0.089\n",
      "Epoch 130 Batch    0/11   train_loss = 0.086\n",
      "Epoch 130 Batch   10/11   train_loss = 0.084\n",
      "Epoch 131 Batch    9/11   train_loss = 0.087\n",
      "Epoch 132 Batch    8/11   train_loss = 0.084\n",
      "Epoch 133 Batch    7/11   train_loss = 0.086\n",
      "Epoch 134 Batch    6/11   train_loss = 0.088\n",
      "Epoch 135 Batch    5/11   train_loss = 0.087\n",
      "Epoch 136 Batch    4/11   train_loss = 0.080\n",
      "Epoch 137 Batch    3/11   train_loss = 0.090\n",
      "Epoch 138 Batch    2/11   train_loss = 0.079\n",
      "Epoch 139 Batch    1/11   train_loss = 0.089\n",
      "Epoch 140 Batch    0/11   train_loss = 0.086\n",
      "Epoch 140 Batch   10/11   train_loss = 0.083\n",
      "Epoch 141 Batch    9/11   train_loss = 0.087\n",
      "Epoch 142 Batch    8/11   train_loss = 0.084\n",
      "Epoch 143 Batch    7/11   train_loss = 0.086\n",
      "Epoch 144 Batch    6/11   train_loss = 0.088\n",
      "Epoch 145 Batch    5/11   train_loss = 0.086\n",
      "Epoch 146 Batch    4/11   train_loss = 0.080\n",
      "Epoch 147 Batch    3/11   train_loss = 0.089\n",
      "Epoch 148 Batch    2/11   train_loss = 0.078\n",
      "Epoch 149 Batch    1/11   train_loss = 0.089\n",
      "Epoch 150 Batch    0/11   train_loss = 0.086\n",
      "Epoch 150 Batch   10/11   train_loss = 0.083\n",
      "Epoch 151 Batch    9/11   train_loss = 0.086\n",
      "Epoch 152 Batch    8/11   train_loss = 0.083\n",
      "Epoch 153 Batch    7/11   train_loss = 0.086\n",
      "Epoch 154 Batch    6/11   train_loss = 0.088\n",
      "Epoch 155 Batch    5/11   train_loss = 0.086\n",
      "Epoch 156 Batch    4/11   train_loss = 0.080\n",
      "Epoch 157 Batch    3/11   train_loss = 0.089\n",
      "Epoch 158 Batch    2/11   train_loss = 0.078\n",
      "Epoch 159 Batch    1/11   train_loss = 0.089\n",
      "Epoch 160 Batch    0/11   train_loss = 0.086\n",
      "Epoch 160 Batch   10/11   train_loss = 0.083\n",
      "Epoch 161 Batch    9/11   train_loss = 0.086\n",
      "Epoch 162 Batch    8/11   train_loss = 0.083\n",
      "Epoch 163 Batch    7/11   train_loss = 0.085\n",
      "Epoch 164 Batch    6/11   train_loss = 0.088\n",
      "Epoch 165 Batch    5/11   train_loss = 0.086\n",
      "Epoch 166 Batch    4/11   train_loss = 0.080\n",
      "Epoch 167 Batch    3/11   train_loss = 0.089\n",
      "Epoch 168 Batch    2/11   train_loss = 0.078\n",
      "Epoch 169 Batch    1/11   train_loss = 0.088\n",
      "Epoch 170 Batch    0/11   train_loss = 0.086\n",
      "Epoch 170 Batch   10/11   train_loss = 0.083\n",
      "Epoch 171 Batch    9/11   train_loss = 0.086\n",
      "Epoch 172 Batch    8/11   train_loss = 0.083\n",
      "Epoch 173 Batch    7/11   train_loss = 0.085\n",
      "Epoch 174 Batch    6/11   train_loss = 0.088\n",
      "Epoch 175 Batch    5/11   train_loss = 0.086\n",
      "Epoch 176 Batch    4/11   train_loss = 0.080\n",
      "Epoch 177 Batch    3/11   train_loss = 0.089\n",
      "Epoch 178 Batch    2/11   train_loss = 0.078\n",
      "Epoch 179 Batch    1/11   train_loss = 0.088\n",
      "Epoch 180 Batch    0/11   train_loss = 0.085\n",
      "Epoch 180 Batch   10/11   train_loss = 0.083\n",
      "Epoch 181 Batch    9/11   train_loss = 0.086\n",
      "Epoch 182 Batch    8/11   train_loss = 0.083\n",
      "Epoch 183 Batch    7/11   train_loss = 0.085\n",
      "Epoch 184 Batch    6/11   train_loss = 0.087\n",
      "Epoch 185 Batch    5/11   train_loss = 0.086\n",
      "Epoch 186 Batch    4/11   train_loss = 0.079\n",
      "Epoch 187 Batch    3/11   train_loss = 0.089\n",
      "Epoch 188 Batch    2/11   train_loss = 0.078\n",
      "Epoch 189 Batch    1/11   train_loss = 0.088\n",
      "Epoch 190 Batch    0/11   train_loss = 0.085\n",
      "Epoch 190 Batch   10/11   train_loss = 0.082\n",
      "Epoch 191 Batch    9/11   train_loss = 0.086\n",
      "Epoch 192 Batch    8/11   train_loss = 0.083\n",
      "Epoch 193 Batch    7/11   train_loss = 0.085\n",
      "Epoch 194 Batch    6/11   train_loss = 0.087\n",
      "Epoch 195 Batch    5/11   train_loss = 0.086\n",
      "Epoch 196 Batch    4/11   train_loss = 0.079\n",
      "Epoch 197 Batch    3/11   train_loss = 0.089\n",
      "Epoch 198 Batch    2/11   train_loss = 0.078\n",
      "Epoch 199 Batch    1/11   train_loss = 0.088\n",
      "Model Trained and Saved\n"
     ]
    }
   ],
   "source": [
    "\"\"\"\n",
    "DON'T MODIFY ANYTHING IN THIS CELL\n",
    "\"\"\"\n",
    "batches = get_batches(int_text, batch_size, seq_length)\n",
    "\n",
    "with tf.Session(graph=train_graph) as sess:\n",
    "    sess.run(tf.global_variables_initializer())\n",
    "\n",
    "    for epoch_i in range(num_epochs):\n",
    "        state = sess.run(initial_state, {input_text: batches[0][0]})\n",
    "\n",
    "        for batch_i, (x, y) in enumerate(batches):\n",
    "            feed = {\n",
    "                input_text: x,\n",
    "                targets: y,\n",
    "                initial_state: state,\n",
    "                lr: learning_rate}\n",
    "            train_loss, state, _ = sess.run([cost, final_state, train_op], feed)\n",
    "            \n",
    "            # Show every <show_every_n_batches> batches\n",
    "            if (epoch_i * len(batches) + batch_i) % show_every_n_batches == 0:\n",
    "                print('Epoch {:>3} Batch {:>4}/{}   train_loss = {:.3f}'.format(\n",
    "                    epoch_i,\n",
    "                    batch_i,\n",
    "                    len(batches),\n",
    "                    train_loss))\n",
    "                \n",
    "        \n",
    "\n",
    "    # Save Model\n",
    "    saver = tf.train.Saver()\n",
    "    saver.save(sess, save_dir)\n",
    "    print('Model Trained and Saved')"
   ]
  },
  {
   "cell_type": "markdown",
   "metadata": {
    "deletable": true,
    "editable": true
   },
   "source": [
    "## Save Parameters\n",
    "Save `seq_length` and `save_dir` for generating a new TV script."
   ]
  },
  {
   "cell_type": "code",
   "execution_count": 17,
   "metadata": {
    "collapsed": false,
    "deletable": true,
    "editable": true
   },
   "outputs": [],
   "source": [
    "\"\"\"\n",
    "DON'T MODIFY ANYTHING IN THIS CELL\n",
    "\"\"\"\n",
    "# Save parameters for checkpoint\n",
    "helper.save_params((seq_length, save_dir))"
   ]
  },
  {
   "cell_type": "markdown",
   "metadata": {
    "deletable": true,
    "editable": true
   },
   "source": [
    "# Checkpoint"
   ]
  },
  {
   "cell_type": "code",
   "execution_count": 18,
   "metadata": {
    "collapsed": false,
    "deletable": true,
    "editable": true
   },
   "outputs": [],
   "source": [
    "\"\"\"\n",
    "DON'T MODIFY ANYTHING IN THIS CELL\n",
    "\"\"\"\n",
    "import tensorflow as tf\n",
    "import numpy as np\n",
    "import helper\n",
    "import problem_unittests as tests\n",
    "\n",
    "_, vocab_to_int, int_to_vocab, token_dict = helper.load_preprocess()\n",
    "seq_length, load_dir = helper.load_params()"
   ]
  },
  {
   "cell_type": "markdown",
   "metadata": {
    "deletable": true,
    "editable": true
   },
   "source": [
    "## Implement Generate Functions\n",
    "### Get Tensors\n",
    "Get tensors from `loaded_graph` using the function [`get_tensor_by_name()`](https://www.tensorflow.org/api_docs/python/tf/Graph#get_tensor_by_name).  Get the tensors using the following names:\n",
    "- \"input:0\"\n",
    "- \"initial_state:0\"\n",
    "- \"final_state:0\"\n",
    "- \"probs:0\"\n",
    "\n",
    "Return the tensors in the following tuple `(InputTensor, InitialStateTensor, FinalStateTensor, ProbsTensor)` "
   ]
  },
  {
   "cell_type": "code",
   "execution_count": 19,
   "metadata": {
    "collapsed": false,
    "deletable": true,
    "editable": true
   },
   "outputs": [
    {
     "name": "stdout",
     "output_type": "stream",
     "text": [
      "Tests Passed\n"
     ]
    }
   ],
   "source": [
    "def get_tensors(loaded_graph):\n",
    "    \"\"\"\n",
    "    Get input, initial state, final state, and probabilities tensor from <loaded_graph>\n",
    "    :param loaded_graph: TensorFlow graph loaded from file\n",
    "    :return: Tuple (InputTensor, InitialStateTensor, FinalStateTensor, ProbsTensor)\n",
    "    \"\"\"\n",
    "    \n",
    "    return loaded_graph.get_tensor_by_name(\"input:0\"), loaded_graph.get_tensor_by_name(\"initial_state:0\"), loaded_graph.get_tensor_by_name(\"final_state:0\"), loaded_graph.get_tensor_by_name(\"probs:0\")\n",
    "\n",
    "\n",
    "\"\"\"\n",
    "DON'T MODIFY ANYTHING IN THIS CELL THAT IS BELOW THIS LINE\n",
    "\"\"\"\n",
    "tests.test_get_tensors(get_tensors)"
   ]
  },
  {
   "cell_type": "markdown",
   "metadata": {
    "deletable": true,
    "editable": true
   },
   "source": [
    "### Choose Word\n",
    "Implement the `pick_word()` function to select the next word using `probabilities`."
   ]
  },
  {
   "cell_type": "code",
   "execution_count": 20,
   "metadata": {
    "collapsed": false,
    "deletable": true,
    "editable": true
   },
   "outputs": [
    {
     "name": "stdout",
     "output_type": "stream",
     "text": [
      "Tests Passed\n"
     ]
    }
   ],
   "source": [
    "def pick_word(probabilities, int_to_vocab):\n",
    "    \"\"\"\n",
    "    Pick the next word in the generated text\n",
    "    :param probabilities: Probabilites of the next word\n",
    "    :param int_to_vocab: Dictionary of word ids as the keys and words as the values\n",
    "    :return: String of the predicted word\n",
    "    \"\"\"\n",
    "    index = np.argmax(probabilities)\n",
    "\n",
    "    return int_to_vocab[index]\n",
    "\n",
    "\n",
    "\"\"\"\n",
    "DON'T MODIFY ANYTHING IN THIS CELL THAT IS BELOW THIS LINE\n",
    "\"\"\"\n",
    "tests.test_pick_word(pick_word)"
   ]
  },
  {
   "cell_type": "markdown",
   "metadata": {
    "deletable": true,
    "editable": true
   },
   "source": [
    "## Generate TV Script\n",
    "This will generate the TV script for you.  Set `gen_length` to the length of TV script you want to generate."
   ]
  },
  {
   "cell_type": "code",
   "execution_count": 21,
   "metadata": {
    "collapsed": false,
    "deletable": true,
    "editable": true
   },
   "outputs": [
    {
     "name": "stdout",
     "output_type": "stream",
     "text": [
      "moe_szyslak:(into phone) gotcha ya down for forty bucks. good luck your eminence.\n",
      "moe_szyslak: sorry, homer, you can't take any more of my money.\n",
      "moe_szyslak: yeah, i'm in the grocery store the other day buyin' some cotton balls...\n",
      "carl_carlson: the absorbent kind?\n",
      "moe_szyslak:(proudly) youuu got that way!\n",
      "homer_simpson: barney, didn't you say you were gonna stop drinking?\n",
      "homer_simpson: okay, okay.\n",
      "moe_szyslak:(pained noise, then:) god, misfire!\n",
      "\n",
      "\n",
      "lenny_leonard: homer, i'm proud of you. you've prolonged!\n",
      "homer_simpson:(to moe, proudly) she has a gift.\n",
      "lisa_simpson: you have thirteen pickled eggs in this jar!(cute) and one cockroach!\n",
      "moe_szyslak:(anguished scream) my fresco! that's why i said it, or that sign--\n",
      "homer_simpson:(loud) did you ever see that\" blue man group?\" total rip-off of the smurfs. and the smurfs? they suck.\n",
      "homer_simpson: and i gave that man directions, even\n"
     ]
    }
   ],
   "source": [
    "gen_length = 200\n",
    "# homer_simpson, moe_szyslak, or Barney_Gumble\n",
    "prime_word = 'moe_szyslak'\n",
    "\n",
    "\"\"\"\n",
    "DON'T MODIFY ANYTHING IN THIS CELL THAT IS BELOW THIS LINE\n",
    "\"\"\"\n",
    "loaded_graph = tf.Graph()\n",
    "with tf.Session(graph=loaded_graph) as sess:\n",
    "    # Load saved model\n",
    "    loader = tf.train.import_meta_graph(load_dir + '.meta')\n",
    "    loader.restore(sess, load_dir)\n",
    "\n",
    "    # Get Tensors from loaded model\n",
    "    input_text, initial_state, final_state, probs = get_tensors(loaded_graph)\n",
    "\n",
    "    # Sentences generation setup\n",
    "    gen_sentences = [prime_word + ':']\n",
    "    prev_state = sess.run(initial_state, {input_text: np.array([[1]])})\n",
    "\n",
    "    # Generate sentences\n",
    "    for n in range(gen_length):\n",
    "        # Dynamic Input\n",
    "        dyn_input = [[vocab_to_int[word] for word in gen_sentences[-seq_length:]]]\n",
    "        dyn_seq_length = len(dyn_input[0])\n",
    "\n",
    "        # Get Prediction\n",
    "        probabilities, prev_state = sess.run(\n",
    "            [probs, final_state],\n",
    "            {input_text: dyn_input, initial_state: prev_state})\n",
    "        \n",
    "        pred_word = pick_word(probabilities[dyn_seq_length-1], int_to_vocab)\n",
    "\n",
    "        gen_sentences.append(pred_word)\n",
    "    \n",
    "    # Remove tokens\n",
    "    tv_script = ' '.join(gen_sentences)\n",
    "    for key, token in token_dict.items():\n",
    "        ending = ' ' if key in ['\\n', '(', '\"'] else ''\n",
    "        tv_script = tv_script.replace(' ' + token.lower(), key)\n",
    "    tv_script = tv_script.replace('\\n ', '\\n')\n",
    "    tv_script = tv_script.replace('( ', '(')\n",
    "        \n",
    "    print(tv_script)"
   ]
  },
  {
   "cell_type": "markdown",
   "metadata": {
    "deletable": true,
    "editable": true
   },
   "source": [
    "# The TV Script is Nonsensical\n",
    "It's ok if the TV script doesn't make any sense.  We trained on less than a megabyte of text.  In order to get good results, you'll have to use a smaller vocabulary or get more data.  Luckly there's more data!  As we mentioned in the begging of this project, this is a subset of [another dataset](https://www.kaggle.com/wcukierski/the-simpsons-by-the-data).  We didn't have you train on all the data, because that would take too long.  However, you are free to train your neural network on all the data.  After you complete the project, of course.\n",
    "# Submitting This Project\n",
    "When submitting this project, make sure to run all the cells before saving the notebook. Save the notebook file as \"dlnd_tv_script_generation.ipynb\" and save it as a HTML file under \"File\" -> \"Download as\". Include the \"helper.py\" and \"problem_unittests.py\" files in your submission."
   ]
  }
 ],
 "metadata": {
  "anaconda-cloud": {},
  "kernelspec": {
   "display_name": "Python [conda env:dlnd]",
   "language": "python",
   "name": "conda-env-dlnd-py"
  },
  "language_info": {
   "codemirror_mode": {
    "name": "ipython",
    "version": 3
   },
   "file_extension": ".py",
   "mimetype": "text/x-python",
   "name": "python",
   "nbconvert_exporter": "python",
   "pygments_lexer": "ipython3",
   "version": "3.5.2"
  }
 },
 "nbformat": 4,
 "nbformat_minor": 0
}
